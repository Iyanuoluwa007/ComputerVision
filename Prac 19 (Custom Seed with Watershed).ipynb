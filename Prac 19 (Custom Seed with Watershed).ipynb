{
 "cells": [
  {
   "cell_type": "code",
   "execution_count": 1,
   "id": "b93adad7-b547-4e0d-b103-843192c51eb6",
   "metadata": {},
   "outputs": [],
   "source": [
    "import cv2 \n",
    "import numpy as np\n",
    "import matplotlib.pyplot as plt\n",
    "%matplotlib inline"
   ]
  },
  {
   "cell_type": "code",
   "execution_count": 2,
   "id": "5d080a38-55af-4aa1-879a-a756f67ea881",
   "metadata": {},
   "outputs": [],
   "source": [
    "road = cv2.imread('Computer-Vision-with-Python/DATA/road_image.jpg')"
   ]
  },
  {
   "cell_type": "code",
   "execution_count": 3,
   "id": "0669556b-8bdd-4756-9a60-75d60053a37d",
   "metadata": {},
   "outputs": [],
   "source": [
    "road_copy = np.copy(road)"
   ]
  },
  {
   "cell_type": "code",
   "execution_count": 4,
   "id": "2c6b285f-68b5-4bff-b6bb-c347839de060",
   "metadata": {},
   "outputs": [],
   "source": [
    "# plt.imshow(road)"
   ]
  },
  {
   "cell_type": "code",
   "execution_count": 5,
   "id": "cfa761d5-b3e5-4795-a8ab-47c2e44b90dc",
   "metadata": {},
   "outputs": [
    {
     "data": {
      "text/plain": [
       "(600, 800)"
      ]
     },
     "execution_count": 5,
     "metadata": {},
     "output_type": "execute_result"
    }
   ],
   "source": [
    "road.shape[:2]"
   ]
  },
  {
   "cell_type": "code",
   "execution_count": 6,
   "id": "d2b76c46-17c8-47fd-b135-d1816796b0f3",
   "metadata": {},
   "outputs": [],
   "source": [
    "marker_image = np.zeros(road.shape[:2],dtype=np.int32)"
   ]
  },
  {
   "cell_type": "code",
   "execution_count": 7,
   "id": "92ee8970-0b28-439e-a137-b50fbef2edb1",
   "metadata": {},
   "outputs": [],
   "source": [
    "segments = np.zeros(road.shape,dtype=np.uint8)"
   ]
  },
  {
   "cell_type": "code",
   "execution_count": 8,
   "id": "3361a56c-19bf-47a4-8702-fb1b5abb5ad4",
   "metadata": {},
   "outputs": [
    {
     "data": {
      "text/plain": [
       "(600, 800)"
      ]
     },
     "execution_count": 8,
     "metadata": {},
     "output_type": "execute_result"
    }
   ],
   "source": [
    "marker_image.shape"
   ]
  },
  {
   "cell_type": "code",
   "execution_count": 9,
   "id": "82a38cc1-6892-4d6b-a98c-84e31b5ed2da",
   "metadata": {},
   "outputs": [
    {
     "data": {
      "text/plain": [
       "(600, 800, 3)"
      ]
     },
     "execution_count": 9,
     "metadata": {},
     "output_type": "execute_result"
    }
   ],
   "source": [
    "segments.shape"
   ]
  },
  {
   "cell_type": "code",
   "execution_count": 10,
   "id": "84ef856f-21bf-4b26-9057-7a861495ac7c",
   "metadata": {},
   "outputs": [],
   "source": [
    "from matplotlib import cm"
   ]
  },
  {
   "cell_type": "code",
   "execution_count": 11,
   "id": "7a2f41f3-0039-40fa-ab83-50707133a70e",
   "metadata": {},
   "outputs": [
    {
     "data": {
      "text/plain": [
       "(0.12156862745098039, 0.4666666666666667, 0.7058823529411765, 1.0)"
      ]
     },
     "execution_count": 11,
     "metadata": {},
     "output_type": "execute_result"
    }
   ],
   "source": [
    "cm.tab10(0)"
   ]
  },
  {
   "cell_type": "code",
   "execution_count": 12,
   "id": "c329b24d-dbfd-4ca6-919c-2d4435d43859",
   "metadata": {},
   "outputs": [],
   "source": [
    "def create_rgb(i):\n",
    "    return tuple(np.array(cm.tab10(i)[:3])*255)"
   ]
  },
  {
   "cell_type": "code",
   "execution_count": 13,
   "id": "38155c3a-8d37-44f4-a510-90f95e53db03",
   "metadata": {},
   "outputs": [],
   "source": [
    "colors = []\n",
    "for i in range(10):\n",
    "    colors.append(create_rgb(i))"
   ]
  },
  {
   "cell_type": "code",
   "execution_count": 14,
   "id": "158afef6-2e30-4c71-a38b-bab41e560ab1",
   "metadata": {},
   "outputs": [
    {
     "data": {
      "text/plain": [
       "[(31.0, 119.0, 180.0),\n",
       " (255.0, 127.0, 14.0),\n",
       " (44.0, 160.0, 44.0),\n",
       " (214.0, 39.0, 40.0),\n",
       " (148.0, 103.0, 189.0),\n",
       " (140.0, 86.0, 75.0),\n",
       " (227.0, 119.0, 194.0),\n",
       " (127.0, 127.0, 127.0),\n",
       " (188.0, 189.0, 34.0),\n",
       " (23.0, 190.0, 207.0)]"
      ]
     },
     "execution_count": 14,
     "metadata": {},
     "output_type": "execute_result"
    }
   ],
   "source": [
    "colors"
   ]
  },
  {
   "cell_type": "code",
   "execution_count": 15,
   "id": "2c90d080-8236-4607-b61a-21748881ed75",
   "metadata": {},
   "outputs": [],
   "source": [
    "# Global variables\n",
    "# Color Choice\n",
    "n_markers = 10 # 0 - 9\n",
    "current_marker = 1\n",
    "# Markers updated by Watershed\n",
    "marks_updated = False"
   ]
  },
  {
   "cell_type": "code",
   "execution_count": 16,
   "id": "65baf17b-5c66-4455-b203-5936ae5d1a57",
   "metadata": {},
   "outputs": [],
   "source": [
    "# Callback Function\n",
    "def mouse_callback(event,x,y,flags,param):\n",
    "    global marks_updated\n",
    "\n",
    "    if event == cv2.EVENT_FLAG_LBUTTON:\n",
    "        # Markers passed to the Watershed Algo\n",
    "        cv2.circle(marker_image,(x,y),10,(current_marker),-1)\n",
    "\n",
    "        # User Sees\n",
    "        cv2.circle(road_copy,(x,y),10,colors[current_marker],-1)\n",
    "\n",
    "    marks_updated = True"
   ]
  },
  {
   "cell_type": "code",
   "execution_count": 17,
   "id": "29a95535-fa15-4e4f-9485-65310137e791",
   "metadata": {},
   "outputs": [],
   "source": [
    "# While True\n",
    "cv2.namedWindow('Road Image')\n",
    "cv2.setMouseCallback('Road Image', mouse_callback)\n",
    "\n",
    "while True:\n",
    "    cv2.imshow('Watershed Segments',segments)\n",
    "    cv2.imshow('Road Image', road_copy)\n",
    "\n",
    "    # Close All Window\n",
    "    k = cv2.waitKey(1)\n",
    "    if k == 27: # Esc key\n",
    "        break\n",
    "\n",
    "    # Clearing all the color \n",
    "    elif k == ord('c'):\n",
    "        road_copy = road.copy()\n",
    "        marker_image = np.zeros(road.shape[:2],dtype=np.int32)\n",
    "        segments = np.zeros(road.shape,dtype=np.uint8)\n",
    "        \n",
    "    # Update Color Choice\n",
    "    elif k > 0 and chr(k).isdigit():\n",
    "        current_marker = int(chr(k))\n",
    "\n",
    "    # Update the Markings\n",
    "    if marks_updated:\n",
    "\n",
    "        marker_image_copy = marker_image.copy()\n",
    "        cv2.watershed(road,marker_image_copy)\n",
    "\n",
    "        segments = np.zeros(road.shape,dtype=np.uint8)\n",
    "\n",
    "        for color_ind in range(n_markers):\n",
    "            # Coloring Segmentd, Numpy Call\n",
    "            segments[marker_image_copy==(color_ind)] = colors[color_ind]\n",
    "\n",
    "\n",
    "\n",
    "cv2.destroyAllWindows()"
   ]
  },
  {
   "cell_type": "code",
   "execution_count": null,
   "id": "6e32c775-e12d-44fc-a45c-f26ccbee8217",
   "metadata": {},
   "outputs": [],
   "source": []
  }
 ],
 "metadata": {
  "kernelspec": {
   "display_name": "Python 3 (ipykernel)",
   "language": "python",
   "name": "python3"
  },
  "language_info": {
   "codemirror_mode": {
    "name": "ipython",
    "version": 3
   },
   "file_extension": ".py",
   "mimetype": "text/x-python",
   "name": "python",
   "nbconvert_exporter": "python",
   "pygments_lexer": "ipython3",
   "version": "3.9.7"
  }
 },
 "nbformat": 4,
 "nbformat_minor": 5
}
